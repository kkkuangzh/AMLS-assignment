{
 "cells": [
  {
   "cell_type": "code",
   "execution_count": 1,
   "metadata": {},
   "outputs": [],
   "source": [
    "# add file path of each task to system path\n",
    "import sys\n",
    "sys.path += ['./A1/', './A2', './B1', './B2']\n",
    "from models_a1 import *\n",
    "from preprocess_a1 import get_a1_data, get_a1_data_cnn\n",
    "from models_a2 import *\n",
    "from preprocess_a2 import get_a2_data\n",
    "from models_b1 import *\n",
    "from preprocess_b1 import get_b1_data\n",
    "from models_b2 import *\n",
    "from preprocess_b2 import get_b2_data, add_class_6_to_label\n",
    "\n",
    "import warnings\n",
    "warnings.filterwarnings(\"ignore\")"
   ]
  },
  {
   "cell_type": "code",
   "execution_count": 2,
   "metadata": {},
   "outputs": [],
   "source": [
    "# define image, label and model path\n",
    "img_path_A = './Datasets/celeba/img/'\n",
    "label_path_A = './Datasets/celeba/labels.csv'\n",
    "test_img_path_A = './Datasets/celeba_test/img/'\n",
    "test_label_path_A = './Datasets/celeba_test/labels.csv'\n",
    "a1_saved_model_path = './A1/A1_transfer_test_augment.h5'\n",
    "a2_saved_model_path = './A2/A2_smiling_72_face_orig_normalizaed.h5'\n",
    "\n",
    "img_path_B = './Datasets/cartoon_set/img/'\n",
    "label_path_B = './Datasets/cartoon_set/labels.csv'\n",
    "test_img_path_B = './Datasets/cartoon_set_test/img/'\n",
    "test_label_path_B = './Datasets/cartoon_set_test/labels.csv'\n",
    "b1_saved_model_path = './B1/B1_face_shape_ROI_cnn.h5'\n",
    "b2_saved_model_path = './B2/B2_eye_color_ROI_cnn.h5'\n",
    "b2_saved_6_classes_model_path = './B2/B2_eye_color_ROI_cnn_class6.h5'"
   ]
  },
  {
   "cell_type": "code",
   "execution_count": 3,
   "metadata": {},
   "outputs": [
    {
     "name": "stdout",
     "output_type": "stream",
     "text": [
      "Preparing facial features for KNN and SVM of A1...\n",
      "4841 of images are detected and normalised.\n",
      "A1: Accuracy of KNN on split test set is:  0.7708978328173375\n",
      "A1: Accuracy of SVM on split test set is:  0.9060887512899897\n",
      "A1: Loading images from directory and normalising..\n",
      "32/32 [==============================] - 15s 475ms/step - loss: 0.1107 - accuracy: 0.9590\n",
      "A1: Accuracy of CNN on split test set is:  0.9589999914169312\n",
      "\n",
      "               precision    recall  f1-score   support\n",
      "\n",
      "        male      0.957     0.963     0.960       514\n",
      "      female      0.961     0.955     0.958       486\n",
      "\n",
      "    accuracy                          0.959      1000\n",
      "   macro avg      0.959     0.959     0.959      1000\n",
      "weighted avg      0.959     0.959     0.959      1000\n",
      "\n",
      "974 of images are detected and normalised.\n",
      "32/32 [==============================] - 15s 477ms/step - loss: 0.2085 - accuracy: 0.9200\n",
      "\n",
      "A1: Accuracy of KNN, SVM, CNN on additional test set are 0.7402464065708418 0.9219712525667351 0.9200000166893005  respectively.\n"
     ]
    }
   ],
   "source": [
    "# Task A1\n",
    "# load data for KNN and SVM, this takes some time\n",
    "feature_train, feature_test, feature_train_label, feature_test_label = get_a1_data(img_path_A, label_path_A)\n",
    "\n",
    "# accuracy of knn and svm on split test set\n",
    "a1_knn_acc, knn_clf_a1 = knn_model_a1(feature_train, feature_test, feature_train_label, feature_test_label, k=4)\n",
    "a1_svm_acc, svm_clf_a1 = svm_model_a1(feature_train, feature_test, feature_train_label, feature_test_label)\n",
    "\n",
    "# uncomment below two lines to see grid search process for knn and svm, it may take several minutes to finish\n",
    "# knn_scores_a1 = grid_search_for_knn_a1(feature_train, feature_test, feature_train_label, feature_test_label, search_num=30)\n",
    "# best_pred_a1 = grid_search_for_svm_a1(feature_train, feature_test, feature_train_label, cv_folds=5)\n",
    "\n",
    "# load data for CNN\n",
    "x_train, x_test, x_valid, y_train, y_test, y_valid = get_a1_data_cnn(img_path_A, label_path_A)\n",
    "\n",
    "# uncomment this line to train cnn model, checkpointer is commented out in case the pretrained model get covered\n",
    "# hist_a1 = train_cnn_model_a1(x_train, y_train, x_valid, y_valid)\n",
    "\n",
    "# accuracy of cnn on split test set\n",
    "a1_cnn_acc = evaluate_cnn_model_a1(a1_saved_model_path, x_test, y_test)\n",
    "\n",
    "# acc of three methods on additional test set\n",
    "acc_of_knn_a1, acc_of_svm_a1, acc_of_cnn_a1 = acc_on_additional_test_set_a1(test_img_path_A, test_label_path_A, a1_saved_model_path, knn_clf_a1, svm_clf_a1)"
   ]
  },
  {
   "cell_type": "code",
   "execution_count": 4,
   "metadata": {},
   "outputs": [
    {
     "name": "stdout",
     "output_type": "stream",
     "text": [
      "A2: Preparing lips features from directory for task A2...\n",
      "4841 of images are detected and normalised.\n",
      "A2: Accuracy of KNN on split test set is:  0.8255933952528379\n",
      "A2: Accuracy of SVM on split test set is:  0.8421052631578947\n",
      "31/31 [==============================] - 0s 1ms/step - loss: 0.3567 - accuracy: 0.8431\n",
      "A2: Accuracy of DNN on split test set is:  0.843137264251709\n",
      "\n",
      "               precision    recall  f1-score   support\n",
      "\n",
      "     Smiling      0.821     0.867     0.843       472\n",
      " Not smiling      0.866     0.821     0.843       497\n",
      "\n",
      "    accuracy                          0.843       969\n",
      "   macro avg      0.844     0.844     0.843       969\n",
      "weighted avg      0.844     0.843     0.843       969\n",
      "\n",
      "974 of images are detected and normalised.\n",
      "31/31 [==============================] - 0s 1ms/step - loss: 0.3432 - accuracy: 0.8480\n",
      "\n",
      "A2: Accuracy of KNN, SVM, DNN on additional test set are 0.824435318275154 0.8449691991786448 0.8480492830276489 respectively.\n"
     ]
    }
   ],
   "source": [
    "# Task A2\n",
    "# load data for KNN and SVM\n",
    "smile_train, smile_test, smile_train_label, smile_test_label = get_a2_data(img_path_A, label_path_A)\n",
    "# accuracy of knn and svm on split test set\n",
    "a2_knn_acc, knn_clf_a2 = knn_model_a2(smile_train, smile_test, smile_train_label, smile_test_label, k=11)\n",
    "a2_svm_acc, svm_clf_a2 = svm_model_a2(smile_train, smile_test, smile_train_label, smile_test_label)\n",
    "a2_acc_dnn = evaluate_dnn_model_a2(a2_saved_model_path, smile_test, smile_test_label)\n",
    "\n",
    "# uncomment below two lines to see grid search process for knn and svm\n",
    "# knn_scores_a2 = grid_search_for_knn_a2(smile_train, smile_test, smile_train_label, smile_test_label, search_num=50)\n",
    "# best_pred_a2 = grid_search_for_svm_a2(smile_train, smile_test, smile_train_label, cv_folds=5)\n",
    "\n",
    "# uncomment this line to train cnn model, checkpointer is commented out in case the pretrained model get covered\n",
    "# hist_a2 = train_dnn_model_a2(smile_train, smile_train_label)\n",
    "\n",
    "# acc of three methods on additional test set\n",
    "acc_of_knn_a2, acc_of_svm_a2, acc_of_dnn_a2 = \\\n",
    "    acc_on_additional_test_set_a2(test_img_path_A, test_label_path_A, a2_saved_model_path, knn_clf_a2, svm_clf_a2)"
   ]
  },
  {
   "cell_type": "code",
   "execution_count": 5,
   "metadata": {},
   "outputs": [
    {
     "name": "stdout",
     "output_type": "stream",
     "text": [
      "B1: Extracting ROI of lower part of the face from images and normalising for task B1... \n",
      "B1: Labels changed to one-hot encoding.\n",
      "63/63 [==============================] - 2s 33ms/step - loss: 0.0026 - accuracy: 0.9995\n",
      "B1: Accuracy of CNN on split test set is: 0.9994999766349792\n",
      "\n",
      "               precision    recall  f1-score   support\n",
      "\n",
      "     class 0     1.0000    1.0000    1.0000       421\n",
      "     class 1     0.9975    1.0000    0.9988       402\n",
      "     class 2     1.0000    1.0000    1.0000       396\n",
      "     class 3     1.0000    0.9975    0.9987       394\n",
      "     class 4     1.0000    1.0000    1.0000       387\n",
      "\n",
      "   micro avg     0.9995    0.9995    0.9995      2000\n",
      "   macro avg     0.9995    0.9995    0.9995      2000\n",
      "weighted avg     0.9995    0.9995    0.9995      2000\n",
      " samples avg     0.9995    0.9995    0.9995      2000\n",
      "\n",
      "79/79 [==============================] - 3s 32ms/step - loss: 0.0031 - accuracy: 0.9996\n",
      "B1: Accuracy of CNN on additional test set is: 0.9995999932289124\n"
     ]
    }
   ],
   "source": [
    "# Task B1\n",
    "# load normalised data\n",
    "shape_train, shape_test, shape_train_label, shape_test_label = get_b1_data(img_path_B, label_path_B)\n",
    "\n",
    "# uncomment this line to train the model\n",
    "# face_shape_history = train_cnn_model_b1(shape_train, shape_train_label)\n",
    "\n",
    "b1_acc = evaluate_cnn_model_b1(b1_saved_model_path, shape_test, shape_test_label)\n",
    "\n",
    "# acc on additional test set\n",
    "acc_of_cnn_b1 = acc_on_additional_test_set_b1(test_img_path_B, test_label_path_B, b1_saved_model_path)"
   ]
  },
  {
   "cell_type": "code",
   "execution_count": 6,
   "metadata": {},
   "outputs": [
    {
     "name": "stdout",
     "output_type": "stream",
     "text": [
      "B2: Extracting ROI of left eye from images and normalizing for task B2...\n",
      "B2: Labels changed to 5d one-hot encoding.\n",
      "63/63 [==============================] - 0s 7ms/step - loss: 0.3562 - accuracy: 0.8315\n",
      "B2: Accuracy of 5d-CNN on split test data is: 0.8314999938011169\n",
      "\n",
      "               precision    recall  f1-score   support\n",
      "\n",
      "     class 0     1.0000    0.7772    0.8747       413\n",
      "     class 1     0.9795    0.8227    0.8942       406\n",
      "     class 2     0.9803    0.7740    0.8650       385\n",
      "     class 3     0.5724    1.0000    0.7281       423\n",
      "     class 4     0.9729    0.7694    0.8593       373\n",
      "\n",
      "   micro avg     0.8315    0.8315    0.8315      2000\n",
      "   macro avg     0.9010    0.8287    0.8443      2000\n",
      "weighted avg     0.8965    0.8315    0.8429      2000\n",
      " samples avg     0.8315    0.8315    0.8315      2000\n",
      "\n",
      "79/79 [==============================] - 1s 7ms/step - loss: 0.3460 - accuracy: 0.8412\n",
      "B2: Accuracy of 5d-CNN on additional test data is: 0.8411999940872192\n",
      "B2: Adding sunglasses as a new class to labels...\n",
      "B2: Labels changed to from 5d to 6d one-hot encoding.\n",
      "313/313 [==============================] - 2s 7ms/step - loss: 0.1113 - accuracy: 0.9578\n",
      "B2: Accuracy of 6d-CNN on split test data is: 0.9577999711036682\n",
      "              precision    recall  f1-score   support\n",
      "\n",
      "     class 0     0.9982    0.9896    0.9939      1639\n",
      "     class 1     0.9970    1.0000    0.9985      1647\n",
      "     class 2     0.9874    0.9994    0.9933      1569\n",
      "     class 3     1.0000    0.8097    0.8949      1992\n",
      "     class 4     0.9903    1.0000    0.9951      1635\n",
      "  sunglasses     0.7980    0.9835    0.8811      1518\n",
      "\n",
      "   micro avg     0.9578    0.9578    0.9578     10000\n",
      "   macro avg     0.9618    0.9637    0.9595     10000\n",
      "weighted avg     0.9650    0.9578    0.9579     10000\n",
      " samples avg     0.9578    0.9578    0.9578     10000\n",
      "\n",
      "B2: Adding sunglasses as a new class to labels...\n",
      "B2: Labels changed to from 5d to 6d one-hot encoding.\n",
      "79/79 [==============================] - 1s 7ms/step - loss: 0.1193 - accuracy: 0.9544\n",
      "B2: Accuracy of 6d-CNN on additional test data is: 0.9544000029563904\n",
      "\n",
      "               precision    recall  f1-score   support\n",
      "\n",
      "     class 0     0.9949    0.9800    0.9874       400\n",
      "     class 1     1.0000    1.0000    1.0000       391\n",
      "     class 2     0.9860    0.9976    0.9918       425\n",
      "     class 3     1.0000    0.8074    0.8934       514\n",
      "     class 4     0.9824    1.0000    0.9911       390\n",
      "  sunglasses     0.7907    0.9842    0.8769       380\n",
      "\n",
      "   micro avg     0.9544    0.9544    0.9544      2500\n",
      "   macro avg     0.9590    0.9615    0.9568      2500\n",
      "weighted avg     0.9623    0.9544    0.9546      2500\n",
      " samples avg     0.9544    0.9544    0.9544      2500\n",
      "\n"
     ]
    }
   ],
   "source": [
    "# Task B2\n",
    "# load normalised data\n",
    "eye_train, eye_test, eye_train_label, eye_test_label = get_b2_data(img_path_B, label_path_B)\n",
    "\n",
    "# uncomment this line to train the 5d-cnn model\n",
    "# eye_color_history = train_cnn_model_b2(eye_train, eye_train_label)\n",
    "\n",
    "# acc of 5d-cnn model on test set\n",
    "b2_acc = evaluate_cnn_model_b2(b2_saved_model_path, eye_test, eye_test_label)\n",
    "# acc of 5d-cnn model on additional test set\n",
    "acc_of_cnn_b2 = acc_on_additional_test_set_b2(test_img_path_B, test_label_path_B, b2_saved_model_path)\n",
    "\n",
    "# add sunglasses as a new label\n",
    "eye_color_roi, eye_color_6d_label = add_class_6_to_label(b2_saved_model_path, img_path_B, label_path_B)\n",
    "\n",
    "# uncomment this line to train the 6d-cnn model\n",
    "# eye_color_6d_hist = train_cnn_model_b2_6_classes(eye_color_roi, eye_color_6d_label)\n",
    "\n",
    "# acc of 6d-cnn model on test set\n",
    "acc_original = evaluate_6d_cnn_model_b2(b2_saved_6_classes_model_path, eye_color_roi, eye_color_6d_label)\n",
    "# acc of 6d-cnn model on additional test set\n",
    "acc_test = evaluate_6d_cnn_model_test(b2_saved_model_path, b2_saved_6_classes_model_path,\n",
    "                                          test_img_path_B, test_label_path_B)"
   ]
  },
  {
   "cell_type": "code",
   "execution_count": 36,
   "metadata": {},
   "outputs": [
    {
     "name": "stdout",
     "output_type": "stream",
     "text": [
      "TA1(test_set)       :KNN:0.7708978328173375, SVM:0.9060887512899897, CNN:0.9589999914169312;\n",
      "TA1(additional_set) :KNN:0.7402464065708418, SVM:0.9219712525667351, CNN:0.9200000166893005;\n",
      "\n",
      "TA2(test_set)       :KNN:0.8255933952528379, SVM:0.8421052631578947, DNN:0.843137264251709;\n",
      "TA2(additional_set) :KNN:0.824435318275154,  SVM:0.8449691991786448, DNN:0.8480492830276489;\n",
      "\n",
      "TA3(test_set)       :CNN:0.9994999766349792;\n",
      "TA3(additional_set) :CNN:0.9995999932289124;\n",
      "\n",
      "TA4(test_set)       :5d-CNN:0.8314999938011169,  6d-CNN:0.9577999711036682;\n",
      "TA4(additional_set) :5d-CNN:0.8411999940872192,  6d-CNN:0.9544000029563904;\n",
      "\n"
     ]
    }
   ],
   "source": [
    "print('TA1(test_set)       :KNN:{}, SVM:{}, CNN:{};\\nTA1(additional_set) :KNN:{}, SVM:{}, CNN:{};\\n\\n'\n",
    "      'TA2(test_set)       :KNN:{}, SVM:{}, DNN:{};\\nTA2(additional_set) :KNN:{},  SVM:{}, DNN:{};\\n\\n'\n",
    "      'TA3(test_set)       :CNN:{};\\nTA3(additional_set) :CNN:{};\\n\\n'\n",
    "      'TA4(test_set)       :5d-CNN:{},  6d-CNN:{};\\nTA4(additional_set) :5d-CNN:{},  6d-CNN:{};\\n'\n",
    "      .format(a1_knn_acc, a1_svm_acc, a1_cnn_acc,\n",
    "              acc_of_knn_a1, acc_of_svm_a1, acc_of_cnn_a1,\n",
    "              a2_knn_acc, a2_svm_acc, a2_acc_dnn, \n",
    "              acc_of_knn_a2, acc_of_svm_a2, acc_of_dnn_a2,\n",
    "              b1_acc, acc_of_cnn_b1,\n",
    "              b2_acc, acc_original, acc_of_cnn_b2, acc_test\n",
    "             ))\n",
    "                                           "
   ]
  },
  {
   "cell_type": "code",
   "execution_count": null,
   "metadata": {},
   "outputs": [],
   "source": []
  },
  {
   "cell_type": "code",
   "execution_count": null,
   "metadata": {},
   "outputs": [],
   "source": []
  },
  {
   "cell_type": "code",
   "execution_count": null,
   "metadata": {},
   "outputs": [],
   "source": []
  }
 ],
 "metadata": {
  "kernelspec": {
   "display_name": "Python 3",
   "language": "python",
   "name": "python3"
  },
  "language_info": {
   "codemirror_mode": {
    "name": "ipython",
    "version": 3
   },
   "file_extension": ".py",
   "mimetype": "text/x-python",
   "name": "python",
   "nbconvert_exporter": "python",
   "pygments_lexer": "ipython3",
   "version": "3.8.5"
  }
 },
 "nbformat": 4,
 "nbformat_minor": 4
}
